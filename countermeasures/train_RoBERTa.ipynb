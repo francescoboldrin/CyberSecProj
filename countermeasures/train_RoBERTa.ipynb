{
  "cells": [
    {
      "cell_type": "markdown",
      "metadata": {
        "id": "zvFiEtCeG21Z"
      },
      "source": [
        "# Spam Email Detection using RoBERTa"
      ]
    },
    {
      "cell_type": "code",
      "execution_count": null,
      "metadata": {
        "colab": {
          "base_uri": "https://localhost:8080/"
        },
        "id": "w5cjXoZXG1wf",
        "outputId": "615184c9-282e-45de-be14-d48777716890"
      },
      "outputs": [
        {
          "name": "stdout",
          "output_type": "stream",
          "text": [
            "Requirement already satisfied: datasets in /usr/local/lib/python3.10/dist-packages (3.2.0)\n",
            "Requirement already satisfied: transformers in /usr/local/lib/python3.10/dist-packages (4.47.1)\n",
            "Requirement already satisfied: filelock in /usr/local/lib/python3.10/dist-packages (from datasets) (3.16.1)\n",
            "Requirement already satisfied: numpy>=1.17 in /usr/local/lib/python3.10/dist-packages (from datasets) (1.26.4)\n",
            "Requirement already satisfied: pyarrow>=15.0.0 in /usr/local/lib/python3.10/dist-packages (from datasets) (17.0.0)\n",
            "Requirement already satisfied: dill<0.3.9,>=0.3.0 in /usr/local/lib/python3.10/dist-packages (from datasets) (0.3.8)\n",
            "Requirement already satisfied: pandas in /usr/local/lib/python3.10/dist-packages (from datasets) (2.2.2)\n",
            "Requirement already satisfied: requests>=2.32.2 in /usr/local/lib/python3.10/dist-packages (from datasets) (2.32.3)\n",
            "Requirement already satisfied: tqdm>=4.66.3 in /usr/local/lib/python3.10/dist-packages (from datasets) (4.67.1)\n",
            "Requirement already satisfied: xxhash in /usr/local/lib/python3.10/dist-packages (from datasets) (3.5.0)\n",
            "Requirement already satisfied: multiprocess<0.70.17 in /usr/local/lib/python3.10/dist-packages (from datasets) (0.70.16)\n",
            "Requirement already satisfied: fsspec<=2024.9.0,>=2023.1.0 in /usr/local/lib/python3.10/dist-packages (from fsspec[http]<=2024.9.0,>=2023.1.0->datasets) (2024.9.0)\n",
            "Requirement already satisfied: aiohttp in /usr/local/lib/python3.10/dist-packages (from datasets) (3.11.10)\n",
            "Requirement already satisfied: huggingface-hub>=0.23.0 in /usr/local/lib/python3.10/dist-packages (from datasets) (0.27.0)\n",
            "Requirement already satisfied: packaging in /usr/local/lib/python3.10/dist-packages (from datasets) (24.2)\n",
            "Requirement already satisfied: pyyaml>=5.1 in /usr/local/lib/python3.10/dist-packages (from datasets) (6.0.2)\n",
            "Requirement already satisfied: regex!=2019.12.17 in /usr/local/lib/python3.10/dist-packages (from transformers) (2024.11.6)\n",
            "Requirement already satisfied: tokenizers<0.22,>=0.21 in /usr/local/lib/python3.10/dist-packages (from transformers) (0.21.0)\n",
            "Requirement already satisfied: safetensors>=0.4.1 in /usr/local/lib/python3.10/dist-packages (from transformers) (0.4.5)\n",
            "Requirement already satisfied: aiohappyeyeballs>=2.3.0 in /usr/local/lib/python3.10/dist-packages (from aiohttp->datasets) (2.4.4)\n",
            "Requirement already satisfied: aiosignal>=1.1.2 in /usr/local/lib/python3.10/dist-packages (from aiohttp->datasets) (1.3.2)\n",
            "Requirement already satisfied: async-timeout<6.0,>=4.0 in /usr/local/lib/python3.10/dist-packages (from aiohttp->datasets) (4.0.3)\n",
            "Requirement already satisfied: attrs>=17.3.0 in /usr/local/lib/python3.10/dist-packages (from aiohttp->datasets) (24.3.0)\n",
            "Requirement already satisfied: frozenlist>=1.1.1 in /usr/local/lib/python3.10/dist-packages (from aiohttp->datasets) (1.5.0)\n",
            "Requirement already satisfied: multidict<7.0,>=4.5 in /usr/local/lib/python3.10/dist-packages (from aiohttp->datasets) (6.1.0)\n",
            "Requirement already satisfied: propcache>=0.2.0 in /usr/local/lib/python3.10/dist-packages (from aiohttp->datasets) (0.2.1)\n",
            "Requirement already satisfied: yarl<2.0,>=1.17.0 in /usr/local/lib/python3.10/dist-packages (from aiohttp->datasets) (1.18.3)\n",
            "Requirement already satisfied: typing-extensions>=3.7.4.3 in /usr/local/lib/python3.10/dist-packages (from huggingface-hub>=0.23.0->datasets) (4.12.2)\n",
            "Requirement already satisfied: charset-normalizer<4,>=2 in /usr/local/lib/python3.10/dist-packages (from requests>=2.32.2->datasets) (3.4.0)\n",
            "Requirement already satisfied: idna<4,>=2.5 in /usr/local/lib/python3.10/dist-packages (from requests>=2.32.2->datasets) (3.10)\n",
            "Requirement already satisfied: urllib3<3,>=1.21.1 in /usr/local/lib/python3.10/dist-packages (from requests>=2.32.2->datasets) (2.2.3)\n",
            "Requirement already satisfied: certifi>=2017.4.17 in /usr/local/lib/python3.10/dist-packages (from requests>=2.32.2->datasets) (2024.12.14)\n",
            "Requirement already satisfied: python-dateutil>=2.8.2 in /usr/local/lib/python3.10/dist-packages (from pandas->datasets) (2.8.2)\n",
            "Requirement already satisfied: pytz>=2020.1 in /usr/local/lib/python3.10/dist-packages (from pandas->datasets) (2024.2)\n",
            "Requirement already satisfied: tzdata>=2022.7 in /usr/local/lib/python3.10/dist-packages (from pandas->datasets) (2024.2)\n",
            "Requirement already satisfied: six>=1.5 in /usr/local/lib/python3.10/dist-packages (from python-dateutil>=2.8.2->pandas->datasets) (1.17.0)\n"
          ]
        }
      ],
      "source": [
        "# Prepare workplace\n",
        "!pip install datasets transformers"
      ]
    },
    {
      "cell_type": "code",
      "execution_count": null,
      "metadata": {
        "colab": {
          "base_uri": "https://localhost:8080/"
        },
        "id": "kQUiLggCBsb4",
        "outputId": "43a60ee8-ec26-455f-dc9d-9c16c6cb9fca"
      },
      "outputs": [
        {
          "name": "stdout",
          "output_type": "stream",
          "text": [
            "Using device: cuda\n"
          ]
        },
        {
          "name": "stderr",
          "output_type": "stream",
          "text": [
            "[nltk_data] Downloading package stopwords to /root/nltk_data...\n",
            "[nltk_data]   Package stopwords is already up-to-date!\n",
            "[nltk_data] Downloading package punkt to /root/nltk_data...\n",
            "[nltk_data]   Package punkt is already up-to-date!\n"
          ]
        },
        {
          "data": {
            "text/plain": [
              "<torch._C.Generator at 0x7a1ebada6470>"
            ]
          },
          "execution_count": 2,
          "metadata": {},
          "output_type": "execute_result"
        }
      ],
      "source": [
        "# Import necessary libraries\n",
        "import matplotlib.pyplot as plt\n",
        "import seaborn as sns\n",
        "from wordcloud import WordCloud\n",
        "import random\n",
        "import numpy as np\n",
        "import torch\n",
        "import nltk\n",
        "from nltk.corpus import stopwords\n",
        "from nltk.tokenize import word_tokenize\n",
        "import pandas as pd\n",
        "import re\n",
        "from sklearn.preprocessing import LabelEncoder\n",
        "from sklearn.metrics import accuracy_score, precision_recall_fscore_support\n",
        "from datasets import Dataset\n",
        "from transformers import RobertaTokenizer, RobertaForSequenceClassification, TrainingArguments, Trainer\n",
        "\n",
        "\n",
        "# Check for GPU availability\n",
        "device = torch.device(\"cuda\" if torch.cuda.is_available() else \"cpu\")\n",
        "print(f\"Using device: {device}\")\n",
        "\n",
        "# Ensure NLTK dependencies are downloaded\n",
        "nltk.download('stopwords')\n",
        "nltk.download('punkt')\n",
        "\n",
        "# Setting random seed for reproducibility\n",
        "SEED = 42\n",
        "random.seed(SEED)\n",
        "np.random.seed(SEED)\n",
        "torch.manual_seed(SEED)"
      ]
    },
    {
      "cell_type": "markdown",
      "metadata": {
        "id": "zatbSzuG_HRh"
      },
      "source": [
        "# Model"
      ]
    },
    {
      "cell_type": "code",
      "execution_count": null,
      "metadata": {
        "colab": {
          "base_uri": "https://localhost:8080/",
          "height": 211
        },
        "id": "kVSoUY1h_DQG",
        "outputId": "f8421055-d633-4989-efc0-25eeaea0af12"
      },
      "outputs": [
        {
          "ename": "NameError",
          "evalue": "name 'RobertaTokenizer' is not defined",
          "output_type": "error",
          "traceback": [
            "\u001b[0;31m---------------------------------------------------------------------------\u001b[0m",
            "\u001b[0;31mNameError\u001b[0m                                 Traceback (most recent call last)",
            "\u001b[0;32m<ipython-input-1-8b42cdc899cc>\u001b[0m in \u001b[0;36m<cell line: 0>\u001b[0;34m()\u001b[0m\n\u001b[1;32m      1\u001b[0m \u001b[0;31m# Download Roberta from HuggingFace\u001b[0m\u001b[0;34m\u001b[0m\u001b[0;34m\u001b[0m\u001b[0m\n\u001b[1;32m      2\u001b[0m \u001b[0mmodel_name\u001b[0m \u001b[0;34m=\u001b[0m \u001b[0;34m'FacebookAI/roberta-base'\u001b[0m\u001b[0;34m\u001b[0m\u001b[0;34m\u001b[0m\u001b[0m\n\u001b[0;32m----> 3\u001b[0;31m \u001b[0mtokenizer\u001b[0m \u001b[0;34m=\u001b[0m \u001b[0mRobertaTokenizer\u001b[0m\u001b[0;34m.\u001b[0m\u001b[0mfrom_pretrained\u001b[0m\u001b[0;34m(\u001b[0m\u001b[0mmodel_name\u001b[0m\u001b[0;34m)\u001b[0m\u001b[0;34m\u001b[0m\u001b[0;34m\u001b[0m\u001b[0m\n\u001b[0m\u001b[1;32m      4\u001b[0m \u001b[0mmodel\u001b[0m \u001b[0;34m=\u001b[0m \u001b[0mRobertaForSequenceClassification\u001b[0m\u001b[0;34m.\u001b[0m\u001b[0mfrom_pretrained\u001b[0m\u001b[0;34m(\u001b[0m\u001b[0mmodel_name\u001b[0m\u001b[0;34m,\u001b[0m \u001b[0mnum_labels\u001b[0m\u001b[0;34m=\u001b[0m\u001b[0;36m2\u001b[0m\u001b[0;34m)\u001b[0m\u001b[0;34m\u001b[0m\u001b[0;34m\u001b[0m\u001b[0m\n\u001b[1;32m      5\u001b[0m \u001b[0;34m\u001b[0m\u001b[0m\n",
            "\u001b[0;31mNameError\u001b[0m: name 'RobertaTokenizer' is not defined"
          ]
        }
      ],
      "source": [
        "# Download Roberta from HuggingFace\n",
        "model_name = 'FacebookAI/roberta-base'\n",
        "tokenizer = RobertaTokenizer.from_pretrained(model_name)\n",
        "model = RobertaForSequenceClassification.from_pretrained(model_name, num_labels=2)\n",
        "\n",
        "# Move model to the specified device\n",
        "model.to(device)\n",
        "\n",
        "def tokenize_function(examples):\n",
        "    return tokenizer(examples['processed_text'], padding=\"max_length\", truncation=True)"
      ]
    },
    {
      "cell_type": "markdown",
      "metadata": {
        "id": "mWgq4Jno_Jep"
      },
      "source": [
        "# Dataset"
      ]
    },
    {
      "cell_type": "code",
      "execution_count": null,
      "metadata": {
        "id": "l4u9gE0m_coD"
      },
      "outputs": [],
      "source": [
        "# Load and prepare the dataset\n",
        "data_dir = 'enron_spam_data.csv'\n",
        "email_data = pd.read_csv(data_dir)\n",
        "\n",
        "# Rename columns\n",
        "email_data = email_data.rename(columns={\"Message ID\": \"mail_id\", \"Message\": \"text\", \"Subject\": \"subject\"})\n",
        "\n",
        "# Label encoding\n",
        "label_encoder = LabelEncoder()\n",
        "email_data['label'] = label_encoder.fit_transform(email_data['Spam/Ham'])\n",
        "\n",
        "# Drop date\n",
        "email_data = email_data.drop(columns=['Date', 'Spam/Ham'])\n",
        "\n",
        "# Replace NaN values with empty strings\n",
        "email_data = email_data.fillna('')\n",
        "\n",
        "# Combine subject and text into a single column\n",
        "email_data['combined_text'] = email_data['subject'] + \" \" + email_data['text']"
      ]
    },
    {
      "cell_type": "code",
      "execution_count": null,
      "metadata": {
        "colab": {
          "base_uri": "https://localhost:8080/"
        },
        "id": "hYOx6b82_eJ4",
        "outputId": "21de9b82-4613-4210-ee05-524c285b3cf8"
      },
      "outputs": [
        {
          "name": "stdout",
          "output_type": "stream",
          "text": [
            "SPAM=17171 | HAM=16545\n",
            "SPAM=2000 | HAM=2000\n"
          ]
        }
      ],
      "source": [
        "# Create a subset with equal number of Spam and Ham\n",
        "SUBSET_SIZE = 4000\n",
        "\n",
        "print(f\"SPAM={len(email_data[email_data['label'] == 1])} | HAM={len(email_data[email_data['label'] == 0])}\")\n",
        "spam_data = email_data[email_data['label'] == 1].sample(n=SUBSET_SIZE//2, random_state=SEED)\n",
        "ham_data = email_data[email_data['label'] == 0].sample(n=SUBSET_SIZE//2, random_state=SEED)\n",
        "email_data = pd.concat([spam_data, ham_data])\n",
        "print(f\"SPAM={len(email_data[email_data['label'] == 1])} | HAM={len(email_data[email_data['label'] == 0])}\")"
      ]
    },
    {
      "cell_type": "code",
      "execution_count": null,
      "metadata": {
        "colab": {
          "base_uri": "https://localhost:8080/",
          "height": 325,
          "referenced_widgets": [
            "51fbd1f719ec43eabe7a0e4bd2b9e8b7",
            "cd0a0fb2b5174fc5836d7fe95595f693",
            "6fdcf52736044b4a9a5d33f2e82610f9",
            "dc54b4c35f7e434fb6a63a9ec81023e4",
            "c551bbbe17af44a68acb682bbdd978a5",
            "8c3e38e75bc440db9396a83fa93d9674",
            "b9a75d2dabbb44be94e18c2001d21a12",
            "3e68945b418a4d4d9b2fdb286d2495bc",
            "773f94a899cf410cb778be5c39783aaf",
            "51b4188698b5486d90e76f9ece98ad73",
            "494734dce2ed4933a50eb6fdf9b90298"
          ]
        },
        "id": "8-GtheUuCGkp",
        "outputId": "d1dae74b-9db6-40a5-89e5-6f09fd009331"
      },
      "outputs": [
        {
          "data": {
            "application/vnd.jupyter.widget-view+json": {
              "model_id": "51fbd1f719ec43eabe7a0e4bd2b9e8b7",
              "version_major": 2,
              "version_minor": 0
            },
            "text/plain": [
              "Map:   0%|          | 0/4000 [00:00<?, ? examples/s]"
            ]
          },
          "metadata": {},
          "output_type": "display_data"
        },
        {
          "data": {
            "application/vnd.google.colaboratory.intrinsic+json": {
              "summary": "{\n  \"name\": \"email_data\",\n  \"rows\": 4000,\n  \"fields\": [\n    {\n      \"column\": \"mail_id\",\n      \"properties\": {\n        \"dtype\": \"number\",\n        \"std\": 9618,\n        \"min\": 3,\n        \"max\": 33715,\n        \"num_unique_values\": 4000,\n        \"samples\": [\n          4059,\n          6351,\n          10710\n        ],\n        \"semantic_type\": \"\",\n        \"description\": \"\"\n      }\n    },\n    {\n      \"column\": \"subject\",\n      \"properties\": {\n        \"dtype\": \"string\",\n        \"num_unique_values\": 3576,\n        \"samples\": [\n          \"get noticed - rolex replica !\",\n          \"united way 2001 - building houston ' s future\",\n          \"message 3\"\n        ],\n        \"semantic_type\": \"\",\n        \"description\": \"\"\n      }\n    },\n    {\n      \"column\": \"text\",\n      \"properties\": {\n        \"dtype\": \"string\",\n        \"num_unique_values\": 3873,\n        \"samples\": [\n          \"- - - - - original message - - - - -\\nfrom : comnes , alan\\nsent : wednesday , september 05 , 2001 12 : 25 pm\\nto : williams iii , bill ; belden , tim ; blair , kit ; mallory , chris\\nsubject : caiso overview\\nthis is very basic overview of iso markets but perhaps appropriate for a new employee . gac\",\n          \"are you ready mark your calendars for \\\" who wants to help millions ? , \\\" the\\nunited way 2000 kick - off , wednesday ,\\nto play ? august 9 at 11 : 15 a . m . , at the hyatt regency downtown . the game\\nshow , made up of enron employee\\ncontestants , will be hosted by channel 13 ' s don nelson and features guest\\nstar lifelines . the kick - off will\\nbe followed by a free lunch and entertainment in antioch park .\\nenron night at today is your last chance to get your tickets ! ! ! the deadline\\nto order tickets is 1 p . m .\\nenron field join us for the astros game on tuesday , august 8 . tickets are\\nonly $ 8 each , limit 1 pair per employee .\\ncome support our own jeff skilling , who will be throwing out the ceremonial lst pitch and monica rodriguez\\n( an ebs emplyee ) , who will be singing the national anthem . in addition ,\\nenron and polaroid will hand out\\npolaroid popshots one time use instant cameras to the first 10 , 000 adults at\\nthe game . click here to\\npurchase your tickets or go through the signature shop on - line . for more\\nabout the game , go to home . enron . com / cr .\\nthe united way our big event is just around the corner and we need\\nvolunteers ! if you are available on august 9\\nkick - off from 11 a . m . - 2 p . m . and are interested , please contact rachel feldt\\nat 713 . 345 . 7629 .\\nweb warriors do you know how to surf the web ? can you use microsoft word ?\\nshare your knowledge with the senior\\ncitizens of houston ! the hallmark retirement community is looking for\\npeople to teach their residents\\nhow to navigate the internet and use basic computer applications . a minimal\\ntime commitment of forty - five\\nminutes a month is suggested and an orientation will be held in late\\naugust . for more information , please\\ncall nancy lyles at 713 . 622 . 6633 .\\nastros wives gala the houston area women ' s center needs volunteers to assist\\nwith their formal fundraiser at enron field\\non thursday , august 17 . if you are interested , please contact liz garza at\\n713 . 528 . 6798 , extension 273 .\\nthe chairman ' s it ' s that time again ! communications for this event will\\nbegin august 14 . if you are interested in helping with the\\naward communication efforts , contact rachel feldt at 713 . 345 . 7629 .\\nfesta italiana ! the federation of italian - american organizations of houston\\nis now recruiting volunteers for its annual\\nitalian festival held september 15 - 17 . if you are interested , contact\\nrachel feldt at 713 . 345 . 7629 .\\nfor more information , click here http : / / home . enron . com / cr .\\nit ' s back to school call lifeworksc today for advice , resources and free\\npublications such as : \\\" how to help your child\\ntime ! succeed in school \\\" ( book / audiotape / cd ) , computers and school age kids\\nbooklets , and \\\" point , click ,\\nand learn \\\" kits . call 800 . 635 . 0606 or visit lifeworks online at :\\nhearing screening hear ye ! hear ye ! it ' s time to get your hearing checked .\\nregister now ! this screening will only be available\\non tuesday august 22 nd . cost : $ 10 enron employees & spouses , $ 25\\ncontractors . the only method of\\npayment will be checks made payable to enron corp . call the health center\\nat 713 . 853 . 6100 to schedule\\nan appointment .\\naugust 17 join enron federal credit union and the foundation for financial\\nliteracy for the third session in the\\nfinancial wellness workshop series , at the doubletree - allen center . for\\nmore information , visit\\nhttp : / / home . enron . com / efcu / .\\naugust 19 free bowling ! courtesy of the enron bowling association at the\\n11 th annual fun tournament at\\ncopperfield bowl . if you are interested , contact dennis lee 713 . 853 . 1715 .\\nseptember 15 united way day of caring ! ! mark your calendar for a day of\\nvolunteer activity at depelchin children ' s\\ncenter and ripley house to support united way and make a difference in your\\nworld .\\nthere will be a sign - up sheet in antioch park on august 9 th and more\\ninformation will follow !\\nlast year , more than 469 , 000 young people where able to take part in youth\\nprograms because of contributions to the united way of the\\ntexas gulf coast .\",\n          \"fyi : attached is the link to the updated version of the bloomberg article on the eott trader . we were successful in getting eott in the headline , however they did not remove enron .\\n\"\n        ],\n        \"semantic_type\": \"\",\n        \"description\": \"\"\n      }\n    },\n    {\n      \"column\": \"label\",\n      \"properties\": {\n        \"dtype\": \"number\",\n        \"std\": 0,\n        \"min\": 0,\n        \"max\": 1,\n        \"num_unique_values\": 2,\n        \"samples\": [\n          0,\n          1\n        ],\n        \"semantic_type\": \"\",\n        \"description\": \"\"\n      }\n    },\n    {\n      \"column\": \"combined_text\",\n      \"properties\": {\n        \"dtype\": \"string\",\n        \"num_unique_values\": 3938,\n        \"samples\": [\n          \"mizuho bank lotterys winners from mizuho bank lottery\\nref . nunber : da 31 / hql 4 / 00 / 88 kn\\nbatch number : ro 96 / 67 r / 01 r / 56 / hid\\ntel : + 34 : 628 / 519 / 510 .\\nfax : + 34 : 695 / 096 / 356 .\\ne - mail : mizuhobanklotto 6 @ netscape . net\\nsir / madam we are pleased to inform you of the\\nresult of the lottery winners international programs held on the 30 th\\nof\\nmarch 2005 . your e - mail address attached to the ticket number\\n00 / go / 141 / 94 , with serial number vo 0 d 58 / 10 m , drew draw number\\n39 / ff 891 e 27 , which consequently won in the 6 th category , you have\\ntherefore been approved for a lump sum pay out of us $ 3 , 000 , 000 ( three\\nmillion united states dollars ) congratulations ! ! ! due to mix up of some\\nnumbers and names , we ask that you keep your winning information\\nconfidential until your claims has been processed and your money\\nremitted to you . this is part of our security protocol to avoid double\\nclaiming and unwarranted abuse of this program by some participants . all\\nparticipants were selected through a computer ballot system drawn from\\nover 80 , 000 , 000 company and 150 , 000 , 000 individual email addresses and\\nnames from all over the world . this promotional program takes place\\nevery three year . this mizuho lottery was promoted and sponsored by\\neminent\\npersonalities like bill gates and the sultan of brunei , we hope with\\npart of your winning you will take part in our next year usd 50 million\\ninternational lottery . to file for your claim , please contact our\\nfiducial agent , mr tony robert . tell : + 34 : 628 / 519 / 510 . associates in spain ,\\nvalencia . reply email : mizuhobanklotto 6 @ netscape . net remember , all\\nwinning\\nmust be claimed not later than 20 th of apirl 2005 . after this date all\\nunclaimed funds will be included in the next stake . please note in order\\nto avoid unnecessary delays and complications , remember call and to quote\\nyour draw number , serial number , ticket number\\nreference number and batch numbers in all correspondence . furthermore ,\\nshould there be any change of address do inform our agent as soon as\\npossible . congratulations once more from our members ofstaff and thank\\nyou for being part of our promotional program . note : anybody under the\\nage of 18 is automatically disqualified .\\nsincerely yours , mizuho bank lottery .\\nlottery coordinator .\\nmr tony robert .\\ntel : + 34 / 628 / 519 / 510 .\\nfax : + 34 - 695 / 096 / 356 .\\ne - mail : mizuhobanklotto 6 @ netscape . net\\n\",\n          \"hot woerhs posing nude hey baby : )\\ndirty bitch nude\\na man is happy so lnog as he ceoshos to be happy and nothing can stop him . the comic is the pcrepetion of the opposite humor is the feeling of it .\\ngray hairs seem to my fancy like the sfot light of the moon , silvering over the evening of life .\\nyawoourwayr\\ntrashier\\n4 l\\nmartinet\\nw\\nkunochau\"\n        ],\n        \"semantic_type\": \"\",\n        \"description\": \"\"\n      }\n    },\n    {\n      \"column\": \"processed_text\",\n      \"properties\": {\n        \"dtype\": \"string\",\n        \"num_unique_values\": 3936,\n        \"samples\": [\n          \"mizuho bank lotterys winners mizuho bank lottery ref nunber da 31 hql 4 00 88 kn batch number ro 96 67 r 01 r 56 hid tel 34 628 519 510 fax 34 695 096 356 e mail mizuhobanklotto 6 netscape net sir madam pleased inform result lottery winners international programs held 30 th march 2005 e mail address attached ticket number 00 go 141 94 serial number vo 0 58 10 drew draw number 39 ff 891 e 27 consequently 6 th category therefore approved lump sum pay us 3 000 000 three million united states dollars congratulations due mix numbers names ask keep winning information confidential claims processed money remitted part security protocol avoid double claiming unwarranted abuse program participants participants selected computer ballot system drawn 80 000 000 company 150 000 000 individual email addresses names world promotional program takes place every three year mizuho lottery promoted sponsored eminent personalities like bill gates sultan brunei hope part winning take part next year usd 50 million international lottery file claim please contact fiducial agent mr tony robert tell 34 628 519 510 associates spain valencia reply email mizuhobanklotto 6 netscape net remember winning must claimed later 20 th apirl 2005 date unclaimed funds included next stake please note order avoid unnecessary delays complications remember call quote draw number serial number ticket number reference number batch numbers correspondence furthermore change address inform agent soon possible congratulations members ofstaff thank part promotional program note anybody age 18 automatically disqualified sincerely mizuho bank lottery lottery coordinator mr tony robert tel 34 628 519 510 fax 34 695 096 356 e mail mizuhobanklotto 6 netscape net\",\n          \"hot woerhs posing nude hey baby dirty bitch nude man happy lnog ceoshos happy nothing stop comic pcrepetion opposite humor feeling gray hairs seem fancy like sfot light moon silvering evening life yawoourwayr trashier 4 l martinet w kunochau\"\n        ],\n        \"semantic_type\": \"\",\n        \"description\": \"\"\n      }\n    }\n  ]\n}",
              "type": "dataframe",
              "variable_name": "email_data"
            },
            "text/html": [
              "\n",
              "  <div id=\"df-b6958e0f-5d4d-47d1-a147-549b6284ef09\" class=\"colab-df-container\">\n",
              "    <div>\n",
              "<style scoped>\n",
              "    .dataframe tbody tr th:only-of-type {\n",
              "        vertical-align: middle;\n",
              "    }\n",
              "\n",
              "    .dataframe tbody tr th {\n",
              "        vertical-align: top;\n",
              "    }\n",
              "\n",
              "    .dataframe thead th {\n",
              "        text-align: right;\n",
              "    }\n",
              "</style>\n",
              "<table border=\"1\" class=\"dataframe\">\n",
              "  <thead>\n",
              "    <tr style=\"text-align: right;\">\n",
              "      <th></th>\n",
              "      <th>mail_id</th>\n",
              "      <th>subject</th>\n",
              "      <th>text</th>\n",
              "      <th>label</th>\n",
              "      <th>combined_text</th>\n",
              "      <th>processed_text</th>\n",
              "    </tr>\n",
              "  </thead>\n",
              "  <tbody>\n",
              "    <tr>\n",
              "      <th>15751</th>\n",
              "      <td>15751</td>\n",
              "      <td>webmaster international cell phone opportunity...</td>\n",
              "      <td>lowest worldwide rates available anywhere on t...</td>\n",
              "      <td>1</td>\n",
              "      <td>webmaster international cell phone opportunity...</td>\n",
              "      <td>webmaster international cell phone opportunity...</td>\n",
              "    </tr>\n",
              "    <tr>\n",
              "      <th>10551</th>\n",
              "      <td>10551</td>\n",
              "      <td>wallstreet pulse</td>\n",
              "      <td>good day to all broker ' s , day trader ' s an...</td>\n",
              "      <td>1</td>\n",
              "      <td>wallstreet pulse good day to all broker ' s , ...</td>\n",
              "      <td>wallstreet pulse good day broker day trader in...</td>\n",
              "    </tr>\n",
              "    <tr>\n",
              "      <th>20504</th>\n",
              "      <td>20504</td>\n",
              "      <td>fda approved drug lasts 8 x longer than vi - a...</td>\n",
              "      <td>body bgcolor = blacktable cellpadding = 10 bor...</td>\n",
              "      <td>1</td>\n",
              "      <td>fda approved drug lasts 8 x longer than vi - a...</td>\n",
              "      <td>fda approved drug lasts 8 x longer vi ag ra bo...</td>\n",
              "    </tr>\n",
              "    <tr>\n",
              "      <th>18941</th>\n",
              "      <td>18941</td>\n",
              "      <td>receive big discounts on ms windows xp , offic...</td>\n",
              "      <td>microsoft windows xp professional 2002 $ 50 al...</td>\n",
              "      <td>1</td>\n",
              "      <td>receive big discounts on ms windows xp , offic...</td>\n",
              "      <td>receive big discounts ms windows xp office ado...</td>\n",
              "    </tr>\n",
              "    <tr>\n",
              "      <th>30237</th>\n",
              "      <td>30237</td>\n",
              "      <td>more and more choices for you all at affordabl...</td>\n",
              "      <td>objectbuilder amphigamae\\nalbertville amdahlcs...</td>\n",
              "      <td>1</td>\n",
              "      <td>more and more choices for you all at affordabl...</td>\n",
              "      <td>choices affordable price melange objectbuilder...</td>\n",
              "    </tr>\n",
              "  </tbody>\n",
              "</table>\n",
              "</div>\n",
              "    <div class=\"colab-df-buttons\">\n",
              "\n",
              "  <div class=\"colab-df-container\">\n",
              "    <button class=\"colab-df-convert\" onclick=\"convertToInteractive('df-b6958e0f-5d4d-47d1-a147-549b6284ef09')\"\n",
              "            title=\"Convert this dataframe to an interactive table.\"\n",
              "            style=\"display:none;\">\n",
              "\n",
              "  <svg xmlns=\"http://www.w3.org/2000/svg\" height=\"24px\" viewBox=\"0 -960 960 960\">\n",
              "    <path d=\"M120-120v-720h720v720H120Zm60-500h600v-160H180v160Zm220 220h160v-160H400v160Zm0 220h160v-160H400v160ZM180-400h160v-160H180v160Zm440 0h160v-160H620v160ZM180-180h160v-160H180v160Zm440 0h160v-160H620v160Z\"/>\n",
              "  </svg>\n",
              "    </button>\n",
              "\n",
              "  <style>\n",
              "    .colab-df-container {\n",
              "      display:flex;\n",
              "      gap: 12px;\n",
              "    }\n",
              "\n",
              "    .colab-df-convert {\n",
              "      background-color: #E8F0FE;\n",
              "      border: none;\n",
              "      border-radius: 50%;\n",
              "      cursor: pointer;\n",
              "      display: none;\n",
              "      fill: #1967D2;\n",
              "      height: 32px;\n",
              "      padding: 0 0 0 0;\n",
              "      width: 32px;\n",
              "    }\n",
              "\n",
              "    .colab-df-convert:hover {\n",
              "      background-color: #E2EBFA;\n",
              "      box-shadow: 0px 1px 2px rgba(60, 64, 67, 0.3), 0px 1px 3px 1px rgba(60, 64, 67, 0.15);\n",
              "      fill: #174EA6;\n",
              "    }\n",
              "\n",
              "    .colab-df-buttons div {\n",
              "      margin-bottom: 4px;\n",
              "    }\n",
              "\n",
              "    [theme=dark] .colab-df-convert {\n",
              "      background-color: #3B4455;\n",
              "      fill: #D2E3FC;\n",
              "    }\n",
              "\n",
              "    [theme=dark] .colab-df-convert:hover {\n",
              "      background-color: #434B5C;\n",
              "      box-shadow: 0px 1px 3px 1px rgba(0, 0, 0, 0.15);\n",
              "      filter: drop-shadow(0px 1px 2px rgba(0, 0, 0, 0.3));\n",
              "      fill: #FFFFFF;\n",
              "    }\n",
              "  </style>\n",
              "\n",
              "    <script>\n",
              "      const buttonEl =\n",
              "        document.querySelector('#df-b6958e0f-5d4d-47d1-a147-549b6284ef09 button.colab-df-convert');\n",
              "      buttonEl.style.display =\n",
              "        google.colab.kernel.accessAllowed ? 'block' : 'none';\n",
              "\n",
              "      async function convertToInteractive(key) {\n",
              "        const element = document.querySelector('#df-b6958e0f-5d4d-47d1-a147-549b6284ef09');\n",
              "        const dataTable =\n",
              "          await google.colab.kernel.invokeFunction('convertToInteractive',\n",
              "                                                    [key], {});\n",
              "        if (!dataTable) return;\n",
              "\n",
              "        const docLinkHtml = 'Like what you see? Visit the ' +\n",
              "          '<a target=\"_blank\" href=https://colab.research.google.com/notebooks/data_table.ipynb>data table notebook</a>'\n",
              "          + ' to learn more about interactive tables.';\n",
              "        element.innerHTML = '';\n",
              "        dataTable['output_type'] = 'display_data';\n",
              "        await google.colab.output.renderOutput(dataTable, element);\n",
              "        const docLink = document.createElement('div');\n",
              "        docLink.innerHTML = docLinkHtml;\n",
              "        element.appendChild(docLink);\n",
              "      }\n",
              "    </script>\n",
              "  </div>\n",
              "\n",
              "\n",
              "<div id=\"df-320f2477-c94b-4e96-a242-6f68a93bef9c\">\n",
              "  <button class=\"colab-df-quickchart\" onclick=\"quickchart('df-320f2477-c94b-4e96-a242-6f68a93bef9c')\"\n",
              "            title=\"Suggest charts\"\n",
              "            style=\"display:none;\">\n",
              "\n",
              "<svg xmlns=\"http://www.w3.org/2000/svg\" height=\"24px\"viewBox=\"0 0 24 24\"\n",
              "     width=\"24px\">\n",
              "    <g>\n",
              "        <path d=\"M19 3H5c-1.1 0-2 .9-2 2v14c0 1.1.9 2 2 2h14c1.1 0 2-.9 2-2V5c0-1.1-.9-2-2-2zM9 17H7v-7h2v7zm4 0h-2V7h2v10zm4 0h-2v-4h2v4z\"/>\n",
              "    </g>\n",
              "</svg>\n",
              "  </button>\n",
              "\n",
              "<style>\n",
              "  .colab-df-quickchart {\n",
              "      --bg-color: #E8F0FE;\n",
              "      --fill-color: #1967D2;\n",
              "      --hover-bg-color: #E2EBFA;\n",
              "      --hover-fill-color: #174EA6;\n",
              "      --disabled-fill-color: #AAA;\n",
              "      --disabled-bg-color: #DDD;\n",
              "  }\n",
              "\n",
              "  [theme=dark] .colab-df-quickchart {\n",
              "      --bg-color: #3B4455;\n",
              "      --fill-color: #D2E3FC;\n",
              "      --hover-bg-color: #434B5C;\n",
              "      --hover-fill-color: #FFFFFF;\n",
              "      --disabled-bg-color: #3B4455;\n",
              "      --disabled-fill-color: #666;\n",
              "  }\n",
              "\n",
              "  .colab-df-quickchart {\n",
              "    background-color: var(--bg-color);\n",
              "    border: none;\n",
              "    border-radius: 50%;\n",
              "    cursor: pointer;\n",
              "    display: none;\n",
              "    fill: var(--fill-color);\n",
              "    height: 32px;\n",
              "    padding: 0;\n",
              "    width: 32px;\n",
              "  }\n",
              "\n",
              "  .colab-df-quickchart:hover {\n",
              "    background-color: var(--hover-bg-color);\n",
              "    box-shadow: 0 1px 2px rgba(60, 64, 67, 0.3), 0 1px 3px 1px rgba(60, 64, 67, 0.15);\n",
              "    fill: var(--button-hover-fill-color);\n",
              "  }\n",
              "\n",
              "  .colab-df-quickchart-complete:disabled,\n",
              "  .colab-df-quickchart-complete:disabled:hover {\n",
              "    background-color: var(--disabled-bg-color);\n",
              "    fill: var(--disabled-fill-color);\n",
              "    box-shadow: none;\n",
              "  }\n",
              "\n",
              "  .colab-df-spinner {\n",
              "    border: 2px solid var(--fill-color);\n",
              "    border-color: transparent;\n",
              "    border-bottom-color: var(--fill-color);\n",
              "    animation:\n",
              "      spin 1s steps(1) infinite;\n",
              "  }\n",
              "\n",
              "  @keyframes spin {\n",
              "    0% {\n",
              "      border-color: transparent;\n",
              "      border-bottom-color: var(--fill-color);\n",
              "      border-left-color: var(--fill-color);\n",
              "    }\n",
              "    20% {\n",
              "      border-color: transparent;\n",
              "      border-left-color: var(--fill-color);\n",
              "      border-top-color: var(--fill-color);\n",
              "    }\n",
              "    30% {\n",
              "      border-color: transparent;\n",
              "      border-left-color: var(--fill-color);\n",
              "      border-top-color: var(--fill-color);\n",
              "      border-right-color: var(--fill-color);\n",
              "    }\n",
              "    40% {\n",
              "      border-color: transparent;\n",
              "      border-right-color: var(--fill-color);\n",
              "      border-top-color: var(--fill-color);\n",
              "    }\n",
              "    60% {\n",
              "      border-color: transparent;\n",
              "      border-right-color: var(--fill-color);\n",
              "    }\n",
              "    80% {\n",
              "      border-color: transparent;\n",
              "      border-right-color: var(--fill-color);\n",
              "      border-bottom-color: var(--fill-color);\n",
              "    }\n",
              "    90% {\n",
              "      border-color: transparent;\n",
              "      border-bottom-color: var(--fill-color);\n",
              "    }\n",
              "  }\n",
              "</style>\n",
              "\n",
              "  <script>\n",
              "    async function quickchart(key) {\n",
              "      const quickchartButtonEl =\n",
              "        document.querySelector('#' + key + ' button');\n",
              "      quickchartButtonEl.disabled = true;  // To prevent multiple clicks.\n",
              "      quickchartButtonEl.classList.add('colab-df-spinner');\n",
              "      try {\n",
              "        const charts = await google.colab.kernel.invokeFunction(\n",
              "            'suggestCharts', [key], {});\n",
              "      } catch (error) {\n",
              "        console.error('Error during call to suggestCharts:', error);\n",
              "      }\n",
              "      quickchartButtonEl.classList.remove('colab-df-spinner');\n",
              "      quickchartButtonEl.classList.add('colab-df-quickchart-complete');\n",
              "    }\n",
              "    (() => {\n",
              "      let quickchartButtonEl =\n",
              "        document.querySelector('#df-320f2477-c94b-4e96-a242-6f68a93bef9c button');\n",
              "      quickchartButtonEl.style.display =\n",
              "        google.colab.kernel.accessAllowed ? 'block' : 'none';\n",
              "    })();\n",
              "  </script>\n",
              "</div>\n",
              "\n",
              "    </div>\n",
              "  </div>\n"
            ],
            "text/plain": [
              "       mail_id                                            subject  \\\n",
              "15751    15751  webmaster international cell phone opportunity...   \n",
              "10551    10551                                   wallstreet pulse   \n",
              "20504    20504  fda approved drug lasts 8 x longer than vi - a...   \n",
              "18941    18941  receive big discounts on ms windows xp , offic...   \n",
              "30237    30237  more and more choices for you all at affordabl...   \n",
              "\n",
              "                                                    text  label  \\\n",
              "15751  lowest worldwide rates available anywhere on t...      1   \n",
              "10551  good day to all broker ' s , day trader ' s an...      1   \n",
              "20504  body bgcolor = blacktable cellpadding = 10 bor...      1   \n",
              "18941  microsoft windows xp professional 2002 $ 50 al...      1   \n",
              "30237  objectbuilder amphigamae\\nalbertville amdahlcs...      1   \n",
              "\n",
              "                                           combined_text  \\\n",
              "15751  webmaster international cell phone opportunity...   \n",
              "10551  wallstreet pulse good day to all broker ' s , ...   \n",
              "20504  fda approved drug lasts 8 x longer than vi - a...   \n",
              "18941  receive big discounts on ms windows xp , offic...   \n",
              "30237  more and more choices for you all at affordabl...   \n",
              "\n",
              "                                          processed_text  \n",
              "15751  webmaster international cell phone opportunity...  \n",
              "10551  wallstreet pulse good day broker day trader in...  \n",
              "20504  fda approved drug lasts 8 x longer vi ag ra bo...  \n",
              "18941  receive big discounts ms windows xp office ado...  \n",
              "30237  choices affordable price melange objectbuilder...  "
            ]
          },
          "execution_count": 6,
          "metadata": {},
          "output_type": "execute_result"
        }
      ],
      "source": [
        "# Preprocessing\n",
        "stop_words = set(stopwords.words('english'))\n",
        "\n",
        "def preprocess_text(text):\n",
        "    \"\"\"\n",
        "    Cleans the text by removing special characters, converting to lowercase,\n",
        "    and removing stopwords.\n",
        "    \"\"\"\n",
        "    # Remove special characters and digits, make lowercase, and split by words\n",
        "    words = re.findall(r'\\b\\w+\\b', text.lower())\n",
        "    # Remove stopwords\n",
        "    words = [word for word in words if word not in stop_words]\n",
        "    return ' '.join(words)\n",
        "\n",
        "# Apply preprocessing to each email in the dataset\n",
        "email_data['processed_text'] = email_data['combined_text'].apply(preprocess_text)\n",
        "\n",
        "# Convert to Hugging Face dataset\n",
        "dataset = Dataset.from_pandas(email_data)\n",
        "tokenized_datasets = dataset.map(tokenize_function, batched=True)\n",
        "\n",
        "# Split the dataset\n",
        "tokenized_datasets = tokenized_datasets.train_test_split(test_size=0.2)\n",
        "\n",
        "email_data.head()"
      ]
    },
    {
      "cell_type": "code",
      "execution_count": null,
      "metadata": {
        "colab": {
          "base_uri": "https://localhost:8080/"
        },
        "id": "mzK2HIiQEyGd",
        "outputId": "d6ad6be4-92ff-4675-976b-af2484dd0042"
      },
      "outputs": [
        {
          "name": "stderr",
          "output_type": "stream",
          "text": [
            "/usr/local/lib/python3.10/dist-packages/transformers/training_args.py:1575: FutureWarning: `evaluation_strategy` is deprecated and will be removed in version 4.46 of 🤗 Transformers. Use `eval_strategy` instead\n",
            "  warnings.warn(\n"
          ]
        }
      ],
      "source": [
        "# Define training arguments\n",
        "training_args = TrainingArguments(\n",
        "    output_dir='./results',\n",
        "    evaluation_strategy=\"epoch\",\n",
        "    learning_rate=2e-5,\n",
        "    per_device_train_batch_size=8,\n",
        "    per_device_eval_batch_size=8,\n",
        "    num_train_epochs=3,\n",
        "    weight_decay=0.01,\n",
        "    report_to=[]  # Disable W&B logging\n",
        ")\n",
        "\n",
        "# Define a function to compute metrics\n",
        "def compute_metrics(p):\n",
        "    pred, labels = p\n",
        "    pred = np.argmax(pred, axis=1)\n",
        "    accuracy = accuracy_score(labels, pred)\n",
        "    precision, recall, f1, _ = precision_recall_fscore_support(labels, pred, average='binary')\n",
        "    return {\n",
        "        'accuracy': accuracy,\n",
        "        'f1': f1,\n",
        "        'precision': precision,\n",
        "        'recall': recall\n",
        "    }\n",
        "\n",
        "# Define trainer\n",
        "trainer = Trainer(\n",
        "    model=model,\n",
        "    args=training_args,\n",
        "    train_dataset=tokenized_datasets['train'],\n",
        "    eval_dataset=tokenized_datasets['test'],\n",
        "    compute_metrics=compute_metrics\n",
        ")"
      ]
    },
    {
      "cell_type": "code",
      "execution_count": null,
      "metadata": {
        "colab": {
          "base_uri": "https://localhost:8080/",
          "height": 276
        },
        "id": "YFZ59L62B4yx",
        "outputId": "b6c2a159-d273-4dd3-daf3-d7f7cd7e1139"
      },
      "outputs": [
        {
          "data": {
            "text/html": [
              "\n",
              "    <div>\n",
              "      \n",
              "      <progress value='1200' max='1200' style='width:300px; height:20px; vertical-align: middle;'></progress>\n",
              "      [1200/1200 17:07, Epoch 3/3]\n",
              "    </div>\n",
              "    <table border=\"1\" class=\"dataframe\">\n",
              "  <thead>\n",
              " <tr style=\"text-align: left;\">\n",
              "      <th>Epoch</th>\n",
              "      <th>Training Loss</th>\n",
              "      <th>Validation Loss</th>\n",
              "      <th>Accuracy</th>\n",
              "      <th>F1</th>\n",
              "      <th>Precision</th>\n",
              "      <th>Recall</th>\n",
              "    </tr>\n",
              "  </thead>\n",
              "  <tbody>\n",
              "    <tr>\n",
              "      <td>1</td>\n",
              "      <td>No log</td>\n",
              "      <td>0.127043</td>\n",
              "      <td>0.972500</td>\n",
              "      <td>0.971649</td>\n",
              "      <td>0.966667</td>\n",
              "      <td>0.976684</td>\n",
              "    </tr>\n",
              "    <tr>\n",
              "      <td>2</td>\n",
              "      <td>0.186600</td>\n",
              "      <td>0.098292</td>\n",
              "      <td>0.980000</td>\n",
              "      <td>0.979328</td>\n",
              "      <td>0.976804</td>\n",
              "      <td>0.981865</td>\n",
              "    </tr>\n",
              "    <tr>\n",
              "      <td>3</td>\n",
              "      <td>0.053700</td>\n",
              "      <td>0.126974</td>\n",
              "      <td>0.980000</td>\n",
              "      <td>0.979434</td>\n",
              "      <td>0.971939</td>\n",
              "      <td>0.987047</td>\n",
              "    </tr>\n",
              "  </tbody>\n",
              "</table><p>"
            ],
            "text/plain": [
              "<IPython.core.display.HTML object>"
            ]
          },
          "metadata": {},
          "output_type": "display_data"
        },
        {
          "data": {
            "text/html": [
              "\n",
              "    <div>\n",
              "      \n",
              "      <progress value='100' max='100' style='width:300px; height:20px; vertical-align: middle;'></progress>\n",
              "      [100/100 00:21]\n",
              "    </div>\n",
              "    "
            ],
            "text/plain": [
              "<IPython.core.display.HTML object>"
            ]
          },
          "metadata": {},
          "output_type": "display_data"
        },
        {
          "data": {
            "text/plain": [
              "('./spam_detection_model/tokenizer_config.json',\n",
              " './spam_detection_model/special_tokens_map.json',\n",
              " './spam_detection_model/vocab.json',\n",
              " './spam_detection_model/merges.txt',\n",
              " './spam_detection_model/added_tokens.json')"
            ]
          },
          "execution_count": 8,
          "metadata": {},
          "output_type": "execute_result"
        }
      ],
      "source": [
        "# Train the model\n",
        "trainer.train()\n",
        "\n",
        "# Evaluate the model\n",
        "trainer.evaluate()\n",
        "\n",
        "# Save the model\n",
        "model.save_pretrained('./spam_detection_model')\n",
        "tokenizer.save_pretrained('./spam_detection_model')"
      ]
    },
    {
      "cell_type": "code",
      "execution_count": null,
      "metadata": {
        "colab": {
          "base_uri": "https://localhost:8080/",
          "height": 641
        },
        "id": "MgqSb-j0IJlY",
        "outputId": "464f2a04-1cc1-48f3-95c9-5265a0d6da2a"
      },
      "outputs": [
        {
          "data": {
            "text/html": [],
            "text/plain": [
              "<IPython.core.display.HTML object>"
            ]
          },
          "metadata": {},
          "output_type": "display_data"
        },
        {
          "data": {
            "image/png": "[encoded data removed]",
            "text/plain": [
              "<Figure size 1000x700 with 2 Axes>"
            ]
          },
          "metadata": {},
          "output_type": "display_data"
        }
      ],
      "source": [
        "# Confusion matrix\n",
        "from sklearn.metrics import confusion_matrix\n",
        "\n",
        "# Make predictions on the evaluation dataset\n",
        "predictions = trainer.predict(tokenized_datasets['test']).predictions\n",
        "predicted_labels = np.argmax(predictions, axis=1)\n",
        "true_labels = tokenized_datasets['test']['label']\n",
        "\n",
        "# Compute the confusion matrix\n",
        "cm = confusion_matrix(true_labels, predicted_labels)\n",
        "\n",
        "# Plot the confusion matrix\n",
        "plt.figure(figsize=(10, 7))\n",
        "sns.heatmap(cm, annot=True, fmt='d', cmap='Blues', xticklabels=label_encoder.classes_, yticklabels=label_encoder.classes_)\n",
        "plt.xlabel('Predicted')\n",
        "plt.ylabel('True')\n",
        "plt.title('Confusion Matrix')\n",
        "plt.show()"
      ]
    }
  ],
  "metadata": {
    "accelerator": "GPU",
    "colab": {
      "gpuType": "T4",
      "provenance": []
    },
    "kernelspec": {
      "display_name": "Python 3",
      "name": "python3"
    },
    "language_info": {
      "name": "python"
    },
    "widgets": {
      "application/vnd.jupyter.widget-state+json": {
        "3e68945b418a4d4d9b2fdb286d2495bc": {
          "model_module": "@jupyter-widgets/base",
          "model_module_version": "1.2.0",
          "model_name": "LayoutModel",
          "state": {
            "_model_module": "@jupyter-widgets/base",
            "_model_module_version": "1.2.0",
            "_model_name": "LayoutModel",
            "_view_count": null,
            "_view_module": "@jupyter-widgets/base",
            "_view_module_version": "1.2.0",
            "_view_name": "LayoutView",
            "align_content": null,
            "align_items": null,
            "align_self": null,
            "border": null,
            "bottom": null,
            "display": null,
            "flex": null,
            "flex_flow": null,
            "grid_area": null,
            "grid_auto_columns": null,
            "grid_auto_flow": null,
            "grid_auto_rows": null,
            "grid_column": null,
            "grid_gap": null,
            "grid_row": null,
            "grid_template_areas": null,
            "grid_template_columns": null,
            "grid_template_rows": null,
            "height": null,
            "justify_content": null,
            "justify_items": null,
            "left": null,
            "margin": null,
            "max_height": null,
            "max_width": null,
            "min_height": null,
            "min_width": null,
            "object_fit": null,
            "object_position": null,
            "order": null,
            "overflow": null,
            "overflow_x": null,
            "overflow_y": null,
            "padding": null,
            "right": null,
            "top": null,
            "visibility": null,
            "width": null
          }
        },
        "494734dce2ed4933a50eb6fdf9b90298": {
          "model_module": "@jupyter-widgets/controls",
          "model_module_version": "1.5.0",
          "model_name": "DescriptionStyleModel",
          "state": {
            "_model_module": "@jupyter-widgets/controls",
            "_model_module_version": "1.5.0",
            "_model_name": "DescriptionStyleModel",
            "_view_count": null,
            "_view_module": "@jupyter-widgets/base",
            "_view_module_version": "1.2.0",
            "_view_name": "StyleView",
            "description_width": ""
          }
        },
        "51b4188698b5486d90e76f9ece98ad73": {
          "model_module": "@jupyter-widgets/base",
          "model_module_version": "1.2.0",
          "model_name": "LayoutModel",
          "state": {
            "_model_module": "@jupyter-widgets/base",
            "_model_module_version": "1.2.0",
            "_model_name": "LayoutModel",
            "_view_count": null,
            "_view_module": "@jupyter-widgets/base",
            "_view_module_version": "1.2.0",
            "_view_name": "LayoutView",
            "align_content": null,
            "align_items": null,
            "align_self": null,
            "border": null,
            "bottom": null,
            "display": null,
            "flex": null,
            "flex_flow": null,
            "grid_area": null,
            "grid_auto_columns": null,
            "grid_auto_flow": null,
            "grid_auto_rows": null,
            "grid_column": null,
            "grid_gap": null,
            "grid_row": null,
            "grid_template_areas": null,
            "grid_template_columns": null,
            "grid_template_rows": null,
            "height": null,
            "justify_content": null,
            "justify_items": null,
            "left": null,
            "margin": null,
            "max_height": null,
            "max_width": null,
            "min_height": null,
            "min_width": null,
            "object_fit": null,
            "object_position": null,
            "order": null,
            "overflow": null,
            "overflow_x": null,
            "overflow_y": null,
            "padding": null,
            "right": null,
            "top": null,
            "visibility": null,
            "width": null
          }
        },
        "51fbd1f719ec43eabe7a0e4bd2b9e8b7": {
          "model_module": "@jupyter-widgets/controls",
          "model_module_version": "1.5.0",
          "model_name": "HBoxModel",
          "state": {
            "_dom_classes": [],
            "_model_module": "@jupyter-widgets/controls",
            "_model_module_version": "1.5.0",
            "_model_name": "HBoxModel",
            "_view_count": null,
            "_view_module": "@jupyter-widgets/controls",
            "_view_module_version": "1.5.0",
            "_view_name": "HBoxView",
            "box_style": "",
            "children": [
              "IPY_MODEL_cd0a0fb2b5174fc5836d7fe95595f693",
              "IPY_MODEL_6fdcf52736044b4a9a5d33f2e82610f9",
              "IPY_MODEL_dc54b4c35f7e434fb6a63a9ec81023e4"
            ],
            "layout": "IPY_MODEL_c551bbbe17af44a68acb682bbdd978a5"
          }
        },
        "6fdcf52736044b4a9a5d33f2e82610f9": {
          "model_module": "@jupyter-widgets/controls",
          "model_module_version": "1.5.0",
          "model_name": "FloatProgressModel",
          "state": {
            "_dom_classes": [],
            "_model_module": "@jupyter-widgets/controls",
            "_model_module_version": "1.5.0",
            "_model_name": "FloatProgressModel",
            "_view_count": null,
            "_view_module": "@jupyter-widgets/controls",
            "_view_module_version": "1.5.0",
            "_view_name": "ProgressView",
            "bar_style": "success",
            "description": "",
            "description_tooltip": null,
            "layout": "IPY_MODEL_3e68945b418a4d4d9b2fdb286d2495bc",
            "max": 4000,
            "min": 0,
            "orientation": "horizontal",
            "style": "IPY_MODEL_773f94a899cf410cb778be5c39783aaf",
            "value": 4000
          }
        },
        "773f94a899cf410cb778be5c39783aaf": {
          "model_module": "@jupyter-widgets/controls",
          "model_module_version": "1.5.0",
          "model_name": "ProgressStyleModel",
          "state": {
            "_model_module": "@jupyter-widgets/controls",
            "_model_module_version": "1.5.0",
            "_model_name": "ProgressStyleModel",
            "_view_count": null,
            "_view_module": "@jupyter-widgets/base",
            "_view_module_version": "1.2.0",
            "_view_name": "StyleView",
            "bar_color": null,
            "description_width": ""
          }
        },
        "8c3e38e75bc440db9396a83fa93d9674": {
          "model_module": "@jupyter-widgets/base",
          "model_module_version": "1.2.0",
          "model_name": "LayoutModel",
          "state": {
            "_model_module": "@jupyter-widgets/base",
            "_model_module_version": "1.2.0",
            "_model_name": "LayoutModel",
            "_view_count": null,
            "_view_module": "@jupyter-widgets/base",
            "_view_module_version": "1.2.0",
            "_view_name": "LayoutView",
            "align_content": null,
            "align_items": null,
            "align_self": null,
            "border": null,
            "bottom": null,
            "display": null,
            "flex": null,
            "flex_flow": null,
            "grid_area": null,
            "grid_auto_columns": null,
            "grid_auto_flow": null,
            "grid_auto_rows": null,
            "grid_column": null,
            "grid_gap": null,
            "grid_row": null,
            "grid_template_areas": null,
            "grid_template_columns": null,
            "grid_template_rows": null,
            "height": null,
            "justify_content": null,
            "justify_items": null,
            "left": null,
            "margin": null,
            "max_height": null,
            "max_width": null,
            "min_height": null,
            "min_width": null,
            "object_fit": null,
            "object_position": null,
            "order": null,
            "overflow": null,
            "overflow_x": null,
            "overflow_y": null,
            "padding": null,
            "right": null,
            "top": null,
            "visibility": null,
            "width": null
          }
        },
        "b9a75d2dabbb44be94e18c2001d21a12": {
          "model_module": "@jupyter-widgets/controls",
          "model_module_version": "1.5.0",
          "model_name": "DescriptionStyleModel",
          "state": {
            "_model_module": "@jupyter-widgets/controls",
            "_model_module_version": "1.5.0",
            "_model_name": "DescriptionStyleModel",
            "_view_count": null,
            "_view_module": "@jupyter-widgets/base",
            "_view_module_version": "1.2.0",
            "_view_name": "StyleView",
            "description_width": ""
          }
        },
        "c551bbbe17af44a68acb682bbdd978a5": {
          "model_module": "@jupyter-widgets/base",
          "model_module_version": "1.2.0",
          "model_name": "LayoutModel",
          "state": {
            "_model_module": "@jupyter-widgets/base",
            "_model_module_version": "1.2.0",
            "_model_name": "LayoutModel",
            "_view_count": null,
            "_view_module": "@jupyter-widgets/base",
            "_view_module_version": "1.2.0",
            "_view_name": "LayoutView",
            "align_content": null,
            "align_items": null,
            "align_self": null,
            "border": null,
            "bottom": null,
            "display": null,
            "flex": null,
            "flex_flow": null,
            "grid_area": null,
            "grid_auto_columns": null,
            "grid_auto_flow": null,
            "grid_auto_rows": null,
            "grid_column": null,
            "grid_gap": null,
            "grid_row": null,
            "grid_template_areas": null,
            "grid_template_columns": null,
            "grid_template_rows": null,
            "height": null,
            "justify_content": null,
            "justify_items": null,
            "left": null,
            "margin": null,
            "max_height": null,
            "max_width": null,
            "min_height": null,
            "min_width": null,
            "object_fit": null,
            "object_position": null,
            "order": null,
            "overflow": null,
            "overflow_x": null,
            "overflow_y": null,
            "padding": null,
            "right": null,
            "top": null,
            "visibility": null,
            "width": null
          }
        },
        "cd0a0fb2b5174fc5836d7fe95595f693": {
          "model_module": "@jupyter-widgets/controls",
          "model_module_version": "1.5.0",
          "model_name": "HTMLModel",
          "state": {
            "_dom_classes": [],
            "_model_module": "@jupyter-widgets/controls",
            "_model_module_version": "1.5.0",
            "_model_name": "HTMLModel",
            "_view_count": null,
            "_view_module": "@jupyter-widgets/controls",
            "_view_module_version": "1.5.0",
            "_view_name": "HTMLView",
            "description": "",
            "description_tooltip": null,
            "layout": "IPY_MODEL_8c3e38e75bc440db9396a83fa93d9674",
            "placeholder": "​",
            "style": "IPY_MODEL_b9a75d2dabbb44be94e18c2001d21a12",
            "value": "Map: 100%"
          }
        },
        "dc54b4c35f7e434fb6a63a9ec81023e4": {
          "model_module": "@jupyter-widgets/controls",
          "model_module_version": "1.5.0",
          "model_name": "HTMLModel",
          "state": {
            "_dom_classes": [],
            "_model_module": "@jupyter-widgets/controls",
            "_model_module_version": "1.5.0",
            "_model_name": "HTMLModel",
            "_view_count": null,
            "_view_module": "@jupyter-widgets/controls",
            "_view_module_version": "1.5.0",
            "_view_name": "HTMLView",
            "description": "",
            "description_tooltip": null,
            "layout": "IPY_MODEL_51b4188698b5486d90e76f9ece98ad73",
            "placeholder": "​",
            "style": "IPY_MODEL_494734dce2ed4933a50eb6fdf9b90298",
            "value": " 4000/4000 [00:20&lt;00:00, 212.25 examples/s]"
          }
        }
      }
    }
  },
  "nbformat": 4,
  "nbformat_minor": 0
}
